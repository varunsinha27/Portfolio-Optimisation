{
 "cells": [
  {
   "cell_type": "code",
   "execution_count": 1,
   "id": "8249cd4c",
   "metadata": {},
   "outputs": [],
   "source": [
    "from binance import Client  \n",
    "import pandas as pd\n",
    "import numpy as np\n",
    "import matplotlib.pyplot as plt\n",
    "\n",
    "client = Client()"
   ]
  },
  {
   "cell_type": "code",
   "execution_count": 2,
   "id": "d44e1be1",
   "metadata": {},
   "outputs": [],
   "source": [
    "def getdailydata(symbol):\n",
    "    frame = pd.DataFrame(client.get_historical_klines(symbol, '1d', '2 years ago UTC'))\n",
    "    frame = frame[[0,4]]\n",
    "    frame.columns = ['Timestamp', symbol]\n",
    "    frame = frame.set_index('Timestamp')\n",
    "    frame = frame.astype(float)\n",
    "    \n",
    "    return frame"
   ]
  },
  {
   "cell_type": "code",
   "execution_count": 3,
   "id": "ff7e25ad",
   "metadata": {},
   "outputs": [
    {
     "data": {
      "text/html": [
       "<div>\n",
       "<style scoped>\n",
       "    .dataframe tbody tr th:only-of-type {\n",
       "        vertical-align: middle;\n",
       "    }\n",
       "\n",
       "    .dataframe tbody tr th {\n",
       "        vertical-align: top;\n",
       "    }\n",
       "\n",
       "    .dataframe thead th {\n",
       "        text-align: right;\n",
       "    }\n",
       "</style>\n",
       "<table border=\"1\" class=\"dataframe\">\n",
       "  <thead>\n",
       "    <tr style=\"text-align: right;\">\n",
       "      <th></th>\n",
       "      <th>BTCUSDT</th>\n",
       "    </tr>\n",
       "    <tr>\n",
       "      <th>Timestamp</th>\n",
       "      <th></th>\n",
       "    </tr>\n",
       "  </thead>\n",
       "  <tbody>\n",
       "    <tr>\n",
       "      <th>1584403200000</th>\n",
       "      <td>5312.64</td>\n",
       "    </tr>\n",
       "    <tr>\n",
       "      <th>1584489600000</th>\n",
       "      <td>5393.04</td>\n",
       "    </tr>\n",
       "    <tr>\n",
       "      <th>1584576000000</th>\n",
       "      <td>6162.37</td>\n",
       "    </tr>\n",
       "    <tr>\n",
       "      <th>1584662400000</th>\n",
       "      <td>6208.36</td>\n",
       "    </tr>\n",
       "    <tr>\n",
       "      <th>1584748800000</th>\n",
       "      <td>6186.98</td>\n",
       "    </tr>\n",
       "    <tr>\n",
       "      <th>...</th>\n",
       "      <td>...</td>\n",
       "    </tr>\n",
       "    <tr>\n",
       "      <th>1647043200000</th>\n",
       "      <td>38807.36</td>\n",
       "    </tr>\n",
       "    <tr>\n",
       "      <th>1647129600000</th>\n",
       "      <td>37777.34</td>\n",
       "    </tr>\n",
       "    <tr>\n",
       "      <th>1647216000000</th>\n",
       "      <td>39671.37</td>\n",
       "    </tr>\n",
       "    <tr>\n",
       "      <th>1647302400000</th>\n",
       "      <td>39280.33</td>\n",
       "    </tr>\n",
       "    <tr>\n",
       "      <th>1647388800000</th>\n",
       "      <td>40809.74</td>\n",
       "    </tr>\n",
       "  </tbody>\n",
       "</table>\n",
       "<p>730 rows × 1 columns</p>\n",
       "</div>"
      ],
      "text/plain": [
       "                BTCUSDT\n",
       "Timestamp              \n",
       "1584403200000   5312.64\n",
       "1584489600000   5393.04\n",
       "1584576000000   6162.37\n",
       "1584662400000   6208.36\n",
       "1584748800000   6186.98\n",
       "...                 ...\n",
       "1647043200000  38807.36\n",
       "1647129600000  37777.34\n",
       "1647216000000  39671.37\n",
       "1647302400000  39280.33\n",
       "1647388800000  40809.74\n",
       "\n",
       "[730 rows x 1 columns]"
      ]
     },
     "execution_count": 3,
     "metadata": {},
     "output_type": "execute_result"
    }
   ],
   "source": [
    "getdailydata('BTCUSDT')"
   ]
  },
  {
   "cell_type": "code",
   "execution_count": 4,
   "id": "3a7f9ea0",
   "metadata": {},
   "outputs": [],
   "source": [
    "symbols = ['BTCUSDT', 'ETHUSDT', 'BNBUSDT', 'XRPUSDT', 'ADAUSDT', 'DOGEUSDT', 'LTCUSDT']"
   ]
  },
  {
   "cell_type": "code",
   "execution_count": 5,
   "id": "c2865c23",
   "metadata": {},
   "outputs": [],
   "source": [
    "prices = []\n",
    "for symbol in symbols:\n",
    "    prices.append(getdailydata(symbol))"
   ]
  },
  {
   "cell_type": "code",
   "execution_count": 6,
   "id": "73309b70",
   "metadata": {},
   "outputs": [],
   "source": [
    "df = pd.concat(prices, axis=1)"
   ]
  },
  {
   "cell_type": "code",
   "execution_count": 7,
   "id": "6bec9e57",
   "metadata": {},
   "outputs": [
    {
     "data": {
      "text/html": [
       "<div>\n",
       "<style scoped>\n",
       "    .dataframe tbody tr th:only-of-type {\n",
       "        vertical-align: middle;\n",
       "    }\n",
       "\n",
       "    .dataframe tbody tr th {\n",
       "        vertical-align: top;\n",
       "    }\n",
       "\n",
       "    .dataframe thead th {\n",
       "        text-align: right;\n",
       "    }\n",
       "</style>\n",
       "<table border=\"1\" class=\"dataframe\">\n",
       "  <thead>\n",
       "    <tr style=\"text-align: right;\">\n",
       "      <th></th>\n",
       "      <th>BTCUSDT</th>\n",
       "      <th>ETHUSDT</th>\n",
       "      <th>BNBUSDT</th>\n",
       "      <th>XRPUSDT</th>\n",
       "      <th>ADAUSDT</th>\n",
       "      <th>DOGEUSDT</th>\n",
       "      <th>LTCUSDT</th>\n",
       "    </tr>\n",
       "    <tr>\n",
       "      <th>Timestamp</th>\n",
       "      <th></th>\n",
       "      <th></th>\n",
       "      <th></th>\n",
       "      <th></th>\n",
       "      <th></th>\n",
       "      <th></th>\n",
       "      <th></th>\n",
       "    </tr>\n",
       "  </thead>\n",
       "  <tbody>\n",
       "    <tr>\n",
       "      <th>1584403200000</th>\n",
       "      <td>5312.64</td>\n",
       "      <td>115.67</td>\n",
       "      <td>10.2576</td>\n",
       "      <td>0.14694</td>\n",
       "      <td>0.02575</td>\n",
       "      <td>0.001622</td>\n",
       "      <td>34.07</td>\n",
       "    </tr>\n",
       "    <tr>\n",
       "      <th>1584489600000</th>\n",
       "      <td>5393.04</td>\n",
       "      <td>118.11</td>\n",
       "      <td>10.3866</td>\n",
       "      <td>0.14760</td>\n",
       "      <td>0.02607</td>\n",
       "      <td>0.001600</td>\n",
       "      <td>34.71</td>\n",
       "    </tr>\n",
       "    <tr>\n",
       "      <th>1584576000000</th>\n",
       "      <td>6162.37</td>\n",
       "      <td>136.30</td>\n",
       "      <td>12.2597</td>\n",
       "      <td>0.16460</td>\n",
       "      <td>0.03030</td>\n",
       "      <td>0.001770</td>\n",
       "      <td>38.90</td>\n",
       "    </tr>\n",
       "    <tr>\n",
       "      <th>1584662400000</th>\n",
       "      <td>6208.36</td>\n",
       "      <td>133.48</td>\n",
       "      <td>11.9147</td>\n",
       "      <td>0.15695</td>\n",
       "      <td>0.02946</td>\n",
       "      <td>0.001780</td>\n",
       "      <td>38.08</td>\n",
       "    </tr>\n",
       "    <tr>\n",
       "      <th>1584748800000</th>\n",
       "      <td>6186.98</td>\n",
       "      <td>132.66</td>\n",
       "      <td>12.1000</td>\n",
       "      <td>0.15797</td>\n",
       "      <td>0.02948</td>\n",
       "      <td>0.001785</td>\n",
       "      <td>38.32</td>\n",
       "    </tr>\n",
       "    <tr>\n",
       "      <th>...</th>\n",
       "      <td>...</td>\n",
       "      <td>...</td>\n",
       "      <td>...</td>\n",
       "      <td>...</td>\n",
       "      <td>...</td>\n",
       "      <td>...</td>\n",
       "      <td>...</td>\n",
       "    </tr>\n",
       "    <tr>\n",
       "      <th>1647043200000</th>\n",
       "      <td>38807.36</td>\n",
       "      <td>2568.80</td>\n",
       "      <td>372.4000</td>\n",
       "      <td>0.78570</td>\n",
       "      <td>0.78900</td>\n",
       "      <td>0.114700</td>\n",
       "      <td>105.60</td>\n",
       "    </tr>\n",
       "    <tr>\n",
       "      <th>1647129600000</th>\n",
       "      <td>37777.34</td>\n",
       "      <td>2515.65</td>\n",
       "      <td>361.4000</td>\n",
       "      <td>0.76020</td>\n",
       "      <td>0.78600</td>\n",
       "      <td>0.111400</td>\n",
       "      <td>101.70</td>\n",
       "    </tr>\n",
       "    <tr>\n",
       "      <th>1647216000000</th>\n",
       "      <td>39671.37</td>\n",
       "      <td>2589.41</td>\n",
       "      <td>373.4000</td>\n",
       "      <td>0.77480</td>\n",
       "      <td>0.80200</td>\n",
       "      <td>0.113900</td>\n",
       "      <td>105.60</td>\n",
       "    </tr>\n",
       "    <tr>\n",
       "      <th>1647302400000</th>\n",
       "      <td>39280.33</td>\n",
       "      <td>2617.73</td>\n",
       "      <td>371.7000</td>\n",
       "      <td>0.76570</td>\n",
       "      <td>0.80000</td>\n",
       "      <td>0.112600</td>\n",
       "      <td>106.80</td>\n",
       "    </tr>\n",
       "    <tr>\n",
       "      <th>1647388800000</th>\n",
       "      <td>40831.35</td>\n",
       "      <td>2697.99</td>\n",
       "      <td>379.0000</td>\n",
       "      <td>0.77360</td>\n",
       "      <td>0.81800</td>\n",
       "      <td>0.115100</td>\n",
       "      <td>108.50</td>\n",
       "    </tr>\n",
       "  </tbody>\n",
       "</table>\n",
       "<p>730 rows × 7 columns</p>\n",
       "</div>"
      ],
      "text/plain": [
       "                BTCUSDT  ETHUSDT   BNBUSDT  XRPUSDT  ADAUSDT  DOGEUSDT  \\\n",
       "Timestamp                                                                \n",
       "1584403200000   5312.64   115.67   10.2576  0.14694  0.02575  0.001622   \n",
       "1584489600000   5393.04   118.11   10.3866  0.14760  0.02607  0.001600   \n",
       "1584576000000   6162.37   136.30   12.2597  0.16460  0.03030  0.001770   \n",
       "1584662400000   6208.36   133.48   11.9147  0.15695  0.02946  0.001780   \n",
       "1584748800000   6186.98   132.66   12.1000  0.15797  0.02948  0.001785   \n",
       "...                 ...      ...       ...      ...      ...       ...   \n",
       "1647043200000  38807.36  2568.80  372.4000  0.78570  0.78900  0.114700   \n",
       "1647129600000  37777.34  2515.65  361.4000  0.76020  0.78600  0.111400   \n",
       "1647216000000  39671.37  2589.41  373.4000  0.77480  0.80200  0.113900   \n",
       "1647302400000  39280.33  2617.73  371.7000  0.76570  0.80000  0.112600   \n",
       "1647388800000  40831.35  2697.99  379.0000  0.77360  0.81800  0.115100   \n",
       "\n",
       "               LTCUSDT  \n",
       "Timestamp               \n",
       "1584403200000    34.07  \n",
       "1584489600000    34.71  \n",
       "1584576000000    38.90  \n",
       "1584662400000    38.08  \n",
       "1584748800000    38.32  \n",
       "...                ...  \n",
       "1647043200000   105.60  \n",
       "1647129600000   101.70  \n",
       "1647216000000   105.60  \n",
       "1647302400000   106.80  \n",
       "1647388800000   108.50  \n",
       "\n",
       "[730 rows x 7 columns]"
      ]
     },
     "execution_count": 7,
     "metadata": {},
     "output_type": "execute_result"
    }
   ],
   "source": [
    "df"
   ]
  },
  {
   "cell_type": "code",
   "execution_count": 8,
   "id": "264a024b",
   "metadata": {},
   "outputs": [],
   "source": [
    "from pypfopt import EfficientFrontier, risk_models, expected_returns, plotting"
   ]
  },
  {
   "cell_type": "code",
   "execution_count": 9,
   "id": "4d10fdab",
   "metadata": {},
   "outputs": [
    {
     "data": {
      "text/plain": [
       "BTCUSDT     1.776190\n",
       "ETHUSDT     3.840029\n",
       "BNBUSDT     5.093571\n",
       "XRPUSDT     1.297116\n",
       "ADAUSDT     4.649606\n",
       "DOGEUSDT    7.448803\n",
       "LTCUSDT     0.785969\n",
       "dtype: float64"
      ]
     },
     "execution_count": 9,
     "metadata": {},
     "output_type": "execute_result"
    }
   ],
   "source": [
    "mu = expected_returns.mean_historical_return(df, frequency = 365)\n",
    "mu"
   ]
  },
  {
   "cell_type": "code",
   "execution_count": 10,
   "id": "6ded3e02",
   "metadata": {},
   "outputs": [
    {
     "data": {
      "text/html": [
       "<div>\n",
       "<style scoped>\n",
       "    .dataframe tbody tr th:only-of-type {\n",
       "        vertical-align: middle;\n",
       "    }\n",
       "\n",
       "    .dataframe tbody tr th {\n",
       "        vertical-align: top;\n",
       "    }\n",
       "\n",
       "    .dataframe thead th {\n",
       "        text-align: right;\n",
       "    }\n",
       "</style>\n",
       "<table border=\"1\" class=\"dataframe\">\n",
       "  <thead>\n",
       "    <tr style=\"text-align: right;\">\n",
       "      <th></th>\n",
       "      <th>BTCUSDT</th>\n",
       "      <th>ETHUSDT</th>\n",
       "      <th>BNBUSDT</th>\n",
       "      <th>XRPUSDT</th>\n",
       "      <th>ADAUSDT</th>\n",
       "      <th>DOGEUSDT</th>\n",
       "      <th>LTCUSDT</th>\n",
       "    </tr>\n",
       "  </thead>\n",
       "  <tbody>\n",
       "    <tr>\n",
       "      <th>BTCUSDT</th>\n",
       "      <td>0.536628</td>\n",
       "      <td>0.548900</td>\n",
       "      <td>0.535165</td>\n",
       "      <td>0.518285</td>\n",
       "      <td>0.511824</td>\n",
       "      <td>0.668607</td>\n",
       "      <td>0.596768</td>\n",
       "    </tr>\n",
       "    <tr>\n",
       "      <th>ETHUSDT</th>\n",
       "      <td>0.548900</td>\n",
       "      <td>0.929019</td>\n",
       "      <td>0.731034</td>\n",
       "      <td>0.728923</td>\n",
       "      <td>0.763548</td>\n",
       "      <td>0.759683</td>\n",
       "      <td>0.803486</td>\n",
       "    </tr>\n",
       "    <tr>\n",
       "      <th>BNBUSDT</th>\n",
       "      <td>0.535165</td>\n",
       "      <td>0.731034</td>\n",
       "      <td>1.423627</td>\n",
       "      <td>0.772219</td>\n",
       "      <td>0.765602</td>\n",
       "      <td>0.589698</td>\n",
       "      <td>0.765523</td>\n",
       "    </tr>\n",
       "    <tr>\n",
       "      <th>XRPUSDT</th>\n",
       "      <td>0.518285</td>\n",
       "      <td>0.728923</td>\n",
       "      <td>0.772219</td>\n",
       "      <td>1.834937</td>\n",
       "      <td>0.808867</td>\n",
       "      <td>0.784863</td>\n",
       "      <td>0.869467</td>\n",
       "    </tr>\n",
       "    <tr>\n",
       "      <th>ADAUSDT</th>\n",
       "      <td>0.511824</td>\n",
       "      <td>0.763548</td>\n",
       "      <td>0.765602</td>\n",
       "      <td>0.808867</td>\n",
       "      <td>1.408852</td>\n",
       "      <td>0.896952</td>\n",
       "      <td>0.795605</td>\n",
       "    </tr>\n",
       "    <tr>\n",
       "      <th>DOGEUSDT</th>\n",
       "      <td>0.668607</td>\n",
       "      <td>0.759683</td>\n",
       "      <td>0.589698</td>\n",
       "      <td>0.784863</td>\n",
       "      <td>0.896952</td>\n",
       "      <td>10.699829</td>\n",
       "      <td>0.925832</td>\n",
       "    </tr>\n",
       "    <tr>\n",
       "      <th>LTCUSDT</th>\n",
       "      <td>0.596768</td>\n",
       "      <td>0.803486</td>\n",
       "      <td>0.765523</td>\n",
       "      <td>0.869467</td>\n",
       "      <td>0.795605</td>\n",
       "      <td>0.925832</td>\n",
       "      <td>1.083944</td>\n",
       "    </tr>\n",
       "  </tbody>\n",
       "</table>\n",
       "</div>"
      ],
      "text/plain": [
       "           BTCUSDT   ETHUSDT   BNBUSDT   XRPUSDT   ADAUSDT   DOGEUSDT  \\\n",
       "BTCUSDT   0.536628  0.548900  0.535165  0.518285  0.511824   0.668607   \n",
       "ETHUSDT   0.548900  0.929019  0.731034  0.728923  0.763548   0.759683   \n",
       "BNBUSDT   0.535165  0.731034  1.423627  0.772219  0.765602   0.589698   \n",
       "XRPUSDT   0.518285  0.728923  0.772219  1.834937  0.808867   0.784863   \n",
       "ADAUSDT   0.511824  0.763548  0.765602  0.808867  1.408852   0.896952   \n",
       "DOGEUSDT  0.668607  0.759683  0.589698  0.784863  0.896952  10.699829   \n",
       "LTCUSDT   0.596768  0.803486  0.765523  0.869467  0.795605   0.925832   \n",
       "\n",
       "           LTCUSDT  \n",
       "BTCUSDT   0.596768  \n",
       "ETHUSDT   0.803486  \n",
       "BNBUSDT   0.765523  \n",
       "XRPUSDT   0.869467  \n",
       "ADAUSDT   0.795605  \n",
       "DOGEUSDT  0.925832  \n",
       "LTCUSDT   1.083944  "
      ]
     },
     "execution_count": 10,
     "metadata": {},
     "output_type": "execute_result"
    }
   ],
   "source": [
    "S = risk_models.sample_cov(df, frequency = 365)\n",
    "S"
   ]
  },
  {
   "cell_type": "code",
   "execution_count": 11,
   "id": "e2b663f0",
   "metadata": {},
   "outputs": [],
   "source": [
    "ef = EfficientFrontier(mu, S)"
   ]
  },
  {
   "cell_type": "code",
   "execution_count": 12,
   "id": "ab711e74",
   "metadata": {},
   "outputs": [
    {
     "data": {
      "text/plain": [
       "<AxesSubplot:xlabel='Volatility', ylabel='Return'>"
      ]
     },
     "execution_count": 12,
     "metadata": {},
     "output_type": "execute_result"
    },
    {
     "data": {
      "image/png": "[encoded data removed]",
      "text/plain": [
       "<Figure size 432x288 with 1 Axes>"
      ]
     },
     "metadata": {
      "needs_background": "light"
     },
     "output_type": "display_data"
    }
   ],
   "source": [
    "plotting.plot_efficient_frontier(ef, show_asset = True)"
   ]
  },
  {
   "cell_type": "code",
   "execution_count": 13,
   "id": "49e6517c",
   "metadata": {},
   "outputs": [
    {
     "data": {
      "text/plain": [
       "['BTCUSDT', 'ETHUSDT', 'BNBUSDT', 'XRPUSDT', 'ADAUSDT', 'DOGEUSDT', 'LTCUSDT']"
      ]
     },
     "execution_count": 13,
     "metadata": {},
     "output_type": "execute_result"
    }
   ],
   "source": [
    "ef.tickers"
   ]
  },
  {
   "cell_type": "code",
   "execution_count": 14,
   "id": "54a7d59b",
   "metadata": {},
   "outputs": [
    {
     "data": {
      "text/plain": [
       "array([1.77618971, 3.84002882, 5.09357123, 1.2971163 , 4.64960646,\n",
       "       7.44880346, 0.78596867])"
      ]
     },
     "execution_count": 14,
     "metadata": {},
     "output_type": "execute_result"
    }
   ],
   "source": [
    "ef.expected_returns"
   ]
  },
  {
   "cell_type": "code",
   "execution_count": 15,
   "id": "af033048",
   "metadata": {},
   "outputs": [
    {
     "data": {
      "text/plain": [
       "array([0.73254928, 0.96385631, 1.19315846, 1.35459829, 1.18695077,\n",
       "       3.27105936, 1.04112652])"
      ]
     },
     "execution_count": 15,
     "metadata": {},
     "output_type": "execute_result"
    }
   ],
   "source": [
    "np.diag(ef.cov_matrix) ** (1/2)"
   ]
  },
  {
   "cell_type": "code",
   "execution_count": 16,
   "id": "c8e295e9",
   "metadata": {},
   "outputs": [
    {
     "data": {
      "image/png": "[encoded data removed]",
      "text/plain": [
       "<Figure size 432x288 with 1 Axes>"
      ]
     },
     "metadata": {
      "needs_background": "light"
     },
     "output_type": "display_data"
    }
   ],
   "source": [
    "ef = EfficientFrontier(mu, S)\n",
    "fig, ax = plt.subplots()\n",
    "plotting.plot_efficient_frontier(ef, ax=ax, show_assets = True)\n",
    "\n",
    "for i, txt in enumerate(ef.tickers):\n",
    "    ax.annotate(txt, ((np.diag(ef.cov_matrix)**(1/2))[i], ef.expected_returns[i]))"
   ]
  },
  {
   "cell_type": "code",
   "execution_count": 17,
   "id": "ed5afe33",
   "metadata": {},
   "outputs": [],
   "source": [
    "ef = EfficientFrontier(mu, S)\n",
    "weights = ef.max_sharpe()"
   ]
  },
  {
   "cell_type": "code",
   "execution_count": 18,
   "id": "2db9f77e",
   "metadata": {},
   "outputs": [
    {
     "data": {
      "text/plain": [
       "OrderedDict([('BTCUSDT', 0.0),\n",
       "             ('ETHUSDT', 0.2035520839657062),\n",
       "             ('BNBUSDT', 0.4478531215636344),\n",
       "             ('XRPUSDT', 0.0),\n",
       "             ('ADAUSDT', 0.2680018677116404),\n",
       "             ('DOGEUSDT', 0.0805929267590192),\n",
       "             ('LTCUSDT', 0.0)])"
      ]
     },
     "execution_count": 18,
     "metadata": {},
     "output_type": "execute_result"
    }
   ],
   "source": [
    "weights"
   ]
  },
  {
   "cell_type": "code",
   "execution_count": 19,
   "id": "01fa1bf7",
   "metadata": {},
   "outputs": [
    {
     "name": "stdout",
     "output_type": "stream",
     "text": [
      "Expected annual return: 490.9%\n",
      "Annual volatility: 100.1%\n",
      "Sharpe Ratio: 4.89\n"
     ]
    },
    {
     "data": {
      "text/plain": [
       "(4.909241732859492, 1.000667851970977, 4.885978622406366)"
      ]
     },
     "execution_count": 19,
     "metadata": {},
     "output_type": "execute_result"
    }
   ],
   "source": [
    "ef.portfolio_performance(verbose=True)"
   ]
  },
  {
   "cell_type": "code",
   "execution_count": 20,
   "id": "c662895a",
   "metadata": {},
   "outputs": [],
   "source": [
    "ef = EfficientFrontier(mu, S)\n",
    "weights = ef.min_volatility()"
   ]
  },
  {
   "cell_type": "code",
   "execution_count": 21,
   "id": "791f2fd4",
   "metadata": {},
   "outputs": [
    {
     "data": {
      "text/plain": [
       "OrderedDict([('BTCUSDT', 0.9678076650624258),\n",
       "             ('ETHUSDT', 0.0),\n",
       "             ('BNBUSDT', 0.0),\n",
       "             ('XRPUSDT', 0.0080325632130712),\n",
       "             ('ADAUSDT', 0.0241597717245032),\n",
       "             ('DOGEUSDT', 0.0),\n",
       "             ('LTCUSDT', 0.0)])"
      ]
     },
     "execution_count": 21,
     "metadata": {},
     "output_type": "execute_result"
    }
   ],
   "source": [
    "weights"
   ]
  },
  {
   "cell_type": "code",
   "execution_count": 22,
   "id": "7b41fa00",
   "metadata": {},
   "outputs": [
    {
     "name": "stdout",
     "output_type": "stream",
     "text": [
      "Expected annual return: 184.2%\n",
      "Annual volatility: 73.2%\n",
      "Sharpe Ratio: 2.49\n"
     ]
    },
    {
     "data": {
      "text/plain": [
       "(1.841762615833598, 0.7320394972093357, 2.488612462549466)"
      ]
     },
     "execution_count": 22,
     "metadata": {},
     "output_type": "execute_result"
    }
   ],
   "source": [
    "ef.portfolio_performance(verbose=True)"
   ]
  }
 ],
 "metadata": {
  "kernelspec": {
   "display_name": "Python 3",
   "language": "python",
   "name": "python3"
  },
  "language_info": {
   "codemirror_mode": {
    "name": "ipython",
    "version": 3
   },
   "file_extension": ".py",
   "mimetype": "text/x-python",
   "name": "python",
   "nbconvert_exporter": "python",
   "pygments_lexer": "ipython3",
   "version": "3.8.8"
  }
 },
 "nbformat": 4,
 "nbformat_minor": 5
}
